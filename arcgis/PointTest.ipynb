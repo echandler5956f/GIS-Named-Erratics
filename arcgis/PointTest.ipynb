{
 "cells": [
  {
   "cell_type": "code",
   "execution_count": 57,
   "id": "abd04e92-b29d-416c-8d8f-b9153c0da1c8",
   "metadata": {},
   "outputs": [],
   "source": [
    "from arcgis.gis import GIS\n",
    "from arcgis.geometry import Point, Polyline, Polygon"
   ]
  },
  {
   "cell_type": "code",
   "execution_count": 58,
   "id": "c3b3ac0d-4097-4198-bb60-1c0cafb8d57d",
   "metadata": {},
   "outputs": [],
   "source": [
    "portal = GIS() # anonymously"
   ]
  },
  {
   "cell_type": "code",
   "execution_count": 59,
   "id": "c8e7b552-5e51-4ef4-b7fb-0bcc1b03f9b3",
   "metadata": {},
   "outputs": [],
   "source": [
    "point = Point({\n",
    "    \"x\": -118.8066,\n",
    "    \"y\": 34.0006,\n",
    "    \"z\": 100\n",
    "})\n",
    "\n",
    "point_attributes = {\"name\": \"Point\", \"description\": \"I am a point\"}\n",
    "\n",
    "simple_marker_symbol = {\n",
    "    \"type\": \"esriSMS\",\n",
    "    \"style\": \"esriSMSCircle\",\n",
    "    \"color\": [0, 0, 0],\n",
    "    \"outline\": {\"color\": [255, 255, 255], \"width\": 1},\n",
    "}"
   ]
  },
  {
   "cell_type": "code",
   "execution_count": 60,
   "id": "4b311393-0fe7-47e3-9f31-2471347c7ab9",
   "metadata": {},
   "outputs": [],
   "source": [
    "polyline = Polyline(\n",
    "    {\n",
    "        \"paths\": [\n",
    "            [-118.821527826096, 34.0139576938577],\n",
    "            [-118.814893761649, 34.0080602407843],\n",
    "            [-118.808878330345, 34.0016642996246],\n",
    "        ]\n",
    "    }\n",
    ")\n",
    "\n",
    "polyline_attributes = {\"name\": \"PolyLine\", \"description\": \"I am a Polyline\"}\n",
    "\n",
    "simple_line_symbol = {\n",
    "    \"type\": \"esriSLS\",\n",
    "    \"style\": \"esriSLSolid\",\n",
    "    \"color\": [255, 155, 128],\n",
    "    \"width\": 2,\n",
    "}"
   ]
  },
  {
   "cell_type": "code",
   "execution_count": 61,
   "id": "cd10bc25-e370-40e2-b791-1096484fe3a6",
   "metadata": {},
   "outputs": [],
   "source": [
    "polygon = Polygon(\n",
    "    {\n",
    "        \"rings\": [\n",
    "            [\n",
    "                [-118.818984489994, 34.0137559967283],\n",
    "                [-118.806796597377, 34.0215816298725],\n",
    "                [-118.791432890735, 34.0163883241613],\n",
    "                [-118.79596686535, 34.008564864635],\n",
    "                [-118.808558110679, 34.0035027131376],\n",
    "            ]\n",
    "        ]\n",
    "    }\n",
    ")\n",
    "\n",
    "polygon_attributes = {\"name\": \"Polygon\", \"description\": \"I am a Polygon\"}\n",
    "\n",
    "simple_fill_symbol = {\n",
    "    \"type\": \"esriSFS\",\n",
    "    \"color\": [50, 100, 200, 125],\n",
    "    \"outline\": {\"color\": [255, 255, 255], \"width\": 1},\n",
    "}"
   ]
  },
  {
   "cell_type": "code",
   "execution_count": 62,
   "id": "f3e78f1a-643c-4a9c-8531-ce9c457976e9",
   "metadata": {},
   "outputs": [
    {
     "name": "stdout",
     "output_type": "stream",
     "text": [
      "<class 'arcgis.map.map_widget.Map'>\n",
      "['__add__', '__class__', '__copy__', '__deepcopy__', '__del__', '__delattr__', '__dir__', '__eq__', '__format__', '__ge__', '__getattribute__', '__getstate__', '__gt__', '__hash__', '__init__', '__init_subclass__', '__le__', '__lt__', '__ne__', '__new__', '__reduce__', '__reduce_ex__', '__repr__', '__setattr__', '__setstate__', '__sizeof__', '__str__', '__sub__', '__subclasshook__', '_add_notifiers', '_basemap_changed', '_call_widget_constructed', '_comm_changed', '_compare', '_default_keys', '_fix_basemap_data', '_gen_repr_from_keys', '_get_embed_state', '_get_trait_default_generator', '_handle_control_comm_msg', '_handle_custom_msg', '_handle_msg', '_is_numpy', '_lock_property', '_log_default', '_notify_observers', '_notify_trait', '_on_extent_change', '_register_validator', '_remove_notifiers', '_renderer_changed', '_repr_keys', '_repr_mimebundle_', '_send', '_setup_webmap_properties', '_should_send_property', '_trait_from_json', '_trait_to_json', '_update_operational_layers', '_update_renderer_key', '_update_source', '_validate_extent', 'add_class', 'add_traits', 'blur', 'class_own_trait_events', 'class_own_traits', 'class_trait_names', 'class_traits', 'close', 'close_all', 'export_to_html', 'focus', 'get_manager_state', 'get_state', 'get_view_spec', 'handle_comm_opened', 'handle_control_comm_opened', 'has_trait', 'hold_sync', 'hold_trait_notifications', 'js_requirement', 'notify_change', 'observe', 'on_msg', 'on_trait_change', 'on_widget_constructed', 'open', 'print', 'remove_class', 'save', 'send', 'send_state', 'set_state', 'set_trait', 'setup_instance', 'sync_navigation', 'trait_defaults', 'trait_events', 'trait_has_value', 'trait_metadata', 'trait_names', 'trait_values', 'traits', 'unobserve', 'unobserve_all', 'unsync_navigation', 'update', 'zoom_to_layer']\n"
     ]
    },
    {
     "name": "stderr",
     "output_type": "stream",
     "text": [
      "/tmp/ipykernel_23574/2824800567.py:6: DeprecationWarning: Widget._active_widgets is deprecated.\n",
      "  if callable(getattr(type(map), method_name))]\n",
      "/tmp/ipykernel_23574/2824800567.py:6: DeprecationWarning: Widget._widget_types is deprecated.\n",
      "  if callable(getattr(type(map), method_name))]\n",
      "/tmp/ipykernel_23574/2824800567.py:6: DeprecationWarning: Widget.widget_types is deprecated.\n",
      "  if callable(getattr(type(map), method_name))]\n",
      "/tmp/ipykernel_23574/2824800567.py:6: DeprecationWarning: Widget.widgets is deprecated.\n",
      "  if callable(getattr(type(map), method_name))]\n"
     ]
    }
   ],
   "source": [
    "map = portal.map()\n",
    "map\n",
    "\n",
    "print(type(map))\n",
    "object_methods = [method_name for method_name in dir(type(map))\n",
    "                  if callable(getattr(type(map), method_name))]\n",
    "print(object_methods)\n"
   ]
  },
  {
   "cell_type": "code",
   "execution_count": 63,
   "id": "3e953ee0-981a-4b50-944a-967cfe25cbdf",
   "metadata": {},
   "outputs": [
    {
     "ename": "AttributeError",
     "evalue": "'dict' object has no attribute 'dict'",
     "output_type": "error",
     "traceback": [
      "\u001b[0;31m---------------------------------------------------------------------------\u001b[0m",
      "\u001b[0;31mAttributeError\u001b[0m                            Traceback (most recent call last)",
      "Cell \u001b[0;32mIn[63], line 1\u001b[0m\n\u001b[0;32m----> 1\u001b[0m \u001b[38;5;28mmap\u001b[39m\u001b[38;5;241m.\u001b[39mcontent\u001b[38;5;241m.\u001b[39mdraw(\n\u001b[1;32m      2\u001b[0m     shape\u001b[38;5;241m=\u001b[39mpoint,\n\u001b[1;32m      3\u001b[0m     symbol\u001b[38;5;241m=\u001b[39msimple_marker_symbol,\n\u001b[1;32m      4\u001b[0m     attributes\u001b[38;5;241m=\u001b[39mpoint_attributes,\n\u001b[1;32m      5\u001b[0m     popup\u001b[38;5;241m=\u001b[39m{\n\u001b[1;32m      6\u001b[0m         \u001b[38;5;124m\"\u001b[39m\u001b[38;5;124mtitle\u001b[39m\u001b[38;5;124m\"\u001b[39m: point_attributes[\u001b[38;5;124m\"\u001b[39m\u001b[38;5;124mname\u001b[39m\u001b[38;5;124m\"\u001b[39m],\n\u001b[1;32m      7\u001b[0m         \u001b[38;5;124m\"\u001b[39m\u001b[38;5;124mcontent\u001b[39m\u001b[38;5;124m\"\u001b[39m: point_attributes[\u001b[38;5;124m\"\u001b[39m\u001b[38;5;124mdescription\u001b[39m\u001b[38;5;124m\"\u001b[39m],\n\u001b[1;32m      8\u001b[0m     },\n\u001b[1;32m      9\u001b[0m )\n\u001b[1;32m     11\u001b[0m \u001b[38;5;28mmap\u001b[39m\u001b[38;5;241m.\u001b[39mcontent\u001b[38;5;241m.\u001b[39mdraw(\n\u001b[1;32m     12\u001b[0m     shape\u001b[38;5;241m=\u001b[39mpolyline,\n\u001b[1;32m     13\u001b[0m     symbol\u001b[38;5;241m=\u001b[39msimple_line_symbol,\n\u001b[0;32m   (...)\u001b[0m\n\u001b[1;32m     18\u001b[0m     },\n\u001b[1;32m     19\u001b[0m )\n\u001b[1;32m     21\u001b[0m \u001b[38;5;28mmap\u001b[39m\u001b[38;5;241m.\u001b[39mcontent\u001b[38;5;241m.\u001b[39mdraw(\n\u001b[1;32m     22\u001b[0m     shape\u001b[38;5;241m=\u001b[39mpolygon,\n\u001b[1;32m     23\u001b[0m     symbol\u001b[38;5;241m=\u001b[39msimple_fill_symbol,\n\u001b[0;32m   (...)\u001b[0m\n\u001b[1;32m     28\u001b[0m     },\n\u001b[1;32m     29\u001b[0m )\n",
      "File \u001b[0;32m~/anaconda3/envs/myenv/lib/python3.11/site-packages/arcgis/map/map_widget.py:2069\u001b[0m, in \u001b[0;36mMapContent.draw\u001b[0;34m(self, shape, popup, symbol, attributes, title)\u001b[0m\n\u001b[1;32m   2057\u001b[0m     fields \u001b[38;5;241m=\u001b[39m [\n\u001b[1;32m   2058\u001b[0m         {\n\u001b[1;32m   2059\u001b[0m             \u001b[38;5;124m\"\u001b[39m\u001b[38;5;124mname\u001b[39m\u001b[38;5;124m\"\u001b[39m: \u001b[38;5;124m\"\u001b[39m\u001b[38;5;124mOBJECTID\u001b[39m\u001b[38;5;124m\"\u001b[39m,\n\u001b[0;32m   (...)\u001b[0m\n\u001b[1;32m   2063\u001b[0m         }\n\u001b[1;32m   2064\u001b[0m     ]\n\u001b[1;32m   2065\u001b[0m     \u001b[38;5;66;03m# Create the Feature, Feature Set using pydantic\u001b[39;00m\n\u001b[1;32m   2066\u001b[0m     feature \u001b[38;5;241m=\u001b[39m ws\u001b[38;5;241m.\u001b[39mFeature(\n\u001b[1;32m   2067\u001b[0m         geometry\u001b[38;5;241m=\u001b[39m\u001b[38;5;28mdict\u001b[39m(shape),\n\u001b[1;32m   2068\u001b[0m         attributes\u001b[38;5;241m=\u001b[39mattributes,\n\u001b[0;32m-> 2069\u001b[0m         popupInfo\u001b[38;5;241m=\u001b[39mpopup\u001b[38;5;241m.\u001b[39mdict(),\n\u001b[1;32m   2070\u001b[0m         symbol\u001b[38;5;241m=\u001b[39msymbol\u001b[38;5;241m.\u001b[39mdict(),\n\u001b[1;32m   2071\u001b[0m     )\n\u001b[1;32m   2072\u001b[0m     feature_set \u001b[38;5;241m=\u001b[39m ws\u001b[38;5;241m.\u001b[39mFeatureSet(\n\u001b[1;32m   2073\u001b[0m         features\u001b[38;5;241m=\u001b[39m[feature], geometryType\u001b[38;5;241m=\u001b[39mgeometry_type\n\u001b[1;32m   2074\u001b[0m     )\u001b[38;5;241m.\u001b[39mdict()\n\u001b[1;32m   2076\u001b[0m \u001b[38;5;66;03m# Create the layer definition\u001b[39;00m\n",
      "\u001b[0;31mAttributeError\u001b[0m: 'dict' object has no attribute 'dict'"
     ]
    }
   ],
   "source": [
    "map.content.draw(\n",
    "    shape=point,\n",
    "    symbol=simple_marker_symbol,\n",
    "    attributes=point_attributes,\n",
    "    popup={\n",
    "        \"title\": point_attributes[\"name\"],\n",
    "        \"content\": point_attributes[\"description\"],\n",
    "    },\n",
    ")\n",
    "\n",
    "map.content.draw(\n",
    "    shape=polyline,\n",
    "    symbol=simple_line_symbol,\n",
    "    attributes=polyline_attributes,\n",
    "    popup={\n",
    "        \"title\": polyline_attributes[\"name\"],\n",
    "        \"content\": polyline_attributes[\"description\"],\n",
    "    },\n",
    ")\n",
    "\n",
    "map.content.draw(\n",
    "    shape=polygon,\n",
    "    symbol=simple_fill_symbol,\n",
    "    attributes=polygon_attributes,\n",
    "    popup={\n",
    "        \"title\": polygon_attributes[\"name\"],\n",
    "        \"content\": polygon_attributes[\"description\"],\n",
    "    },\n",
    ")"
   ]
  },
  {
   "cell_type": "code",
   "execution_count": null,
   "id": "286bb913-8423-47a3-b96d-770e9223ff3e",
   "metadata": {},
   "outputs": [],
   "source": [
    "map.center = [34.0110, -118.8047]\n",
    "map.zoom = 14"
   ]
  },
  {
   "cell_type": "code",
   "execution_count": null,
   "id": "97a99b3a-d1ed-4415-9fb0-3704e4500f3e",
   "metadata": {},
   "outputs": [],
   "source": [
    "import os\n",
    "\n",
    "file_dir = os.path.join(os.getcwd(), 'home')\n",
    "if not os.path.isdir(file_dir):\n",
    "    os.mkdir(file_dir)\n",
    "    \n",
    "file_path = os.path.join(file_dir, 'add-a-point-line-and-polygon.html')\n",
    "\n",
    "map.export_to_html(file_path, title=\"Add a point, line, and polygon\")"
   ]
  },
  {
   "cell_type": "code",
   "execution_count": null,
   "id": "990fcba7-f7f0-47fd-bfd9-c0a73dba6af7",
   "metadata": {},
   "outputs": [],
   "source": []
  }
 ],
 "metadata": {
  "kernelspec": {
   "display_name": "myenv",
   "language": "python",
   "name": "python3"
  },
  "language_info": {
   "codemirror_mode": {
    "name": "ipython",
    "version": 3
   },
   "file_extension": ".py",
   "mimetype": "text/x-python",
   "name": "python",
   "nbconvert_exporter": "python",
   "pygments_lexer": "ipython3",
   "version": "3.11.10"
  }
 },
 "nbformat": 4,
 "nbformat_minor": 5
}
