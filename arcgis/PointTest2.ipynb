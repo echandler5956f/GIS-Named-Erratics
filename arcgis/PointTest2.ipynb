{
 "cells": [
  {
   "cell_type": "code",
   "execution_count": null,
   "metadata": {},
   "outputs": [],
   "source": [
    "# Import modules\n",
    "from arcgis import GIS\n",
    "from arcgis.geometry import Point, Polyline, Polygon\n",
    "from arcgis.map.symbols import SimpleMarkerSymbolEsriSMS, SimpleLineSymbolEsriSLS, SimpleFillSymbolEsriSFS, SimpleFillSymbolStyle, SimpleMarkerSymbolStyle, SimpleLineSymbolStyle\n",
    "from arcgis.map.popups import PopupInfo"
   ]
  },
  {
   "cell_type": "code",
   "execution_count": null,
   "metadata": {},
   "outputs": [],
   "source": [
    "# Log in to portal\n",
    "portal = GIS()  # anonymously"
   ]
  },
  {
   "cell_type": "code",
   "execution_count": null,
   "metadata": {},
   "outputs": [],
   "source": [
    "point_geometry = Point({\"x\": -118.8066, \"y\": 34.0006, \"spatialReference\": {\"wkid\":4326}})\n",
    "\n",
    "point_attributes = {\"name\": \"Point\", \"description\": \"I am a point\"}\n",
    "\n",
    "point_symbol =  SimpleMarkerSymbolEsriSMS(\n",
    "    style = SimpleMarkerSymbolStyle.esri_sms_circle,\n",
    "    color = [0, 0, 0],\n",
    "    outline = SimpleLineSymbolEsriSLS(color = [255, 255, 255], width = 1),\n",
    ")"
   ]
  },
  {
   "cell_type": "code",
   "execution_count": null,
   "metadata": {},
   "outputs": [],
   "source": [
    "polyline_geometry = Polyline({\n",
    "    \"paths\": [[\n",
    "        [-118.821527826096, 34.0139576938577],\n",
    "        [-118.814893761649, 34.0080602407843],\n",
    "        [-118.808878330345, 34.0016642996246],\n",
    "    ]],\n",
    "    \"spatialReference\": {\"wkid\":4326}\n",
    "})\n",
    "\n",
    "polyline_attributes = {\"name\": \"Polyline\", \"description\": \"I am a Polyline\"}\n",
    "\n",
    "polyline_symbol = SimpleLineSymbolEsriSLS(\n",
    "    style = SimpleLineSymbolStyle.esri_sls_solid,\n",
    "    color = [255, 155, 128],\n",
    "    width = 2\n",
    ")"
   ]
  },
  {
   "cell_type": "code",
   "execution_count": null,
   "metadata": {},
   "outputs": [],
   "source": [
    "polygon_geometry = Polygon(\n",
    "    {\n",
    "        \"rings\": [\n",
    "            [\n",
    "                [-118.818984489994, 34.0137559967283],\n",
    "                [-118.806796597377, 34.0215816298725],\n",
    "                [-118.791432890735, 34.0163883241613],\n",
    "                [-118.79596686535, 34.008564864635],\n",
    "                [-118.808558110679, 34.0035027131376],\n",
    "            ]\n",
    "        ],\n",
    "        \"spatialReference\": {\"wkid\":4326}\n",
    "    }\n",
    ")\n",
    "\n",
    "polygon_attributes = {\"name\": \"Polygon\", \"description\": \"I am a Polygon\"}\n",
    "\n",
    "polygon_symbol = SimpleFillSymbolEsriSFS(\n",
    "    style = SimpleFillSymbolStyle.esri_sfs_solid,\n",
    "    color = [50, 100, 200, 125],\n",
    "    outline = SimpleLineSymbolEsriSLS(color = [255, 255, 255], width = 1)\n",
    ")"
   ]
  },
  {
   "cell_type": "code",
   "execution_count": null,
   "metadata": {},
   "outputs": [],
   "source": [
    "map = portal.map()\n",
    "map"
   ]
  },
  {
   "cell_type": "code",
   "execution_count": null,
   "metadata": {},
   "outputs": [],
   "source": [
    "map.content.draw(\n",
    "    shape=polyline_geometry,\n",
    "    symbol=polyline_symbol,\n",
    "    popup=PopupInfo(title=polyline_attributes[\"name\"], description=polyline_attributes[\"description\"])\n",
    ")\n",
    "\n",
    "map.content.draw(\n",
    "    shape=point_geometry,\n",
    "    symbol=point_symbol,\n",
    "    popup=PopupInfo(title=point_attributes[\"name\"], description=point_attributes[\"description\"])\n",
    ")\n",
    "\n",
    "map.content.draw(\n",
    "    shape=polygon_geometry,\n",
    "    symbol=polygon_symbol,\n",
    "    popup=PopupInfo(title=polygon_attributes[\"name\"], description=polygon_attributes[\"description\"])\n",
    ")"
   ]
  },
  {
   "cell_type": "code",
   "execution_count": null,
   "metadata": {},
   "outputs": [],
   "source": [
    "map.center = [34.0122, -118.8055]\n",
    "map.zoom = 14"
   ]
  },
  {
   "cell_type": "code",
   "execution_count": null,
   "metadata": {},
   "outputs": [],
   "source": [
    "import os\n",
    "\n",
    "file_dir = os.path.join(os.getcwd(), \"home\")\n",
    "if not os.path.isdir(file_dir):\n",
    "    os.mkdir(file_dir)\n",
    "\n",
    "file_path = os.path.join(file_dir, \"add-a-point-line-and-polygon.html\")\n",
    "\n",
    "map.export_to_html(file_path, title=\"Add a point, line, and polygon\")"
   ]
  }
 ],
 "metadata": {
  "kernelspec": {
   "display_name": "myenv",
   "language": "python",
   "name": "python3"
  },
  "language_info": {
   "codemirror_mode": {
    "name": "ipython",
    "version": 3
   },
   "file_extension": ".py",
   "mimetype": "text/x-python",
   "name": "python",
   "nbconvert_exporter": "python",
   "pygments_lexer": "ipython3",
   "version": "3.11.10"
  }
 },
 "nbformat": 4,
 "nbformat_minor": 2
}
