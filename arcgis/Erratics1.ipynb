{
 "cells": [
  {
   "cell_type": "code",
   "execution_count": 1,
   "metadata": {},
   "outputs": [
    {
     "name": "stdout",
     "output_type": "stream",
     "text": [
      "{'1': {'name': 'Denali Erratic', 'latitude': '63.721633', 'longitude': '-148.9658'}, '2': {'name': 'Williwaw Erratic', 'latitude': '60.7845', 'longitude': '-148.87425'}, '3': {'name': 'Mendenhall Glacier Erratics', 'latitude': '58.491255', 'longitude': '-134.523227'}, '4': {'name': 'Big Rock', 'latitude': '49.989773', 'longitude': '-125.225808'}, '5': {'name': 'Bellevue Erratic / Sheridan Erratic', 'latitude': '45.117361', 'longitude': '-123.316211'}, '6': {'name': 'Yamhill Valley Erratic', 'latitude': '45.14', 'longitude': '-123.292778'}, '7': {'name': 'Shasta Court Erratic', 'latitude': '49.266017', 'longitude': '-122.8421'}, '8': {'name': 'White Rock', 'latitude': '49.01995', 'longitude': '-122.802519'}, '9': {'name': 'H Street Erratic', 'latitude': '48.994108', 'longitude': '-122.726207'}, '10': {'name': 'Big Rock', 'latitude': '48.210283', 'longitude': '-122.686817'}, '11': {'name': 'White Rock', 'latitude': '47.893217', 'longitude': '-122.642983'}, '12': {'name': 'Willamette Meteorite', 'latitude': '45.377041', 'longitude': '-122.637099'}, '13': {'name': 'Ferndale Erratics', 'latitude': '48.869213', 'longitude': '-122.593162'}, '14': {'name': 'Frog Rock & Ladybug Rock', 'latitude': '47.6958', 'longitude': '-122.52355'}, '15': {'name': 'Donovan Avenue Erratic', 'latitude': '48.717272', 'longitude': '-122.474638'}, '16': {'name': 'Arroyo Park Erratic', 'latitude': '48.68492', 'longitude': '-122.460352'}, '17': {'name': 'Waterman Rock', 'latitude': '48.054782', 'longitude': '-122.459708'}, '18': {'name': 'Aldergrove Erratic / Big Rock', 'latitude': '49.008588', 'longitude': '-122.448921'}, '19': {'name': 'Edmonds Way Erratic', 'latitude': '47.789133', 'longitude': '-122.35475'}, '20': {'name': 'Ravenna Park Erratic', 'latitude': '47.6702', 'longitude': '-122.30223'}, '21': {'name': 'Wedgwood Rock', 'latitude': '47.680839', 'longitude': '-122.2973'}, '22': {'name': 'Saar Creek Erratic', 'latitude': '48.955768', 'longitude': '-122.201206'}, '23': {'name': 'Indian Rock', 'latitude': '37.252776', 'longitude': '-122.121642'}, '24': {'name': 'Lake Stevens Erratic', 'latitude': '47.996933', 'longitude': '-122.115067'}, '25': {'name': 'Fantastic Erratic', 'latitude': '47.530237', 'longitude': '-122.080479'}, '26': {'name': 'Big Rock', 'latitude': '47.725617', 'longitude': '-121.98645'}, '27': {'name': 'Yeager Rock', 'latitude': '47.815733', 'longitude': '-119.55305'}, '28': {'name': 'Olmsted Point Erratics', 'latitude': '37.810723', 'longitude': '-119.485059'}, '29': {'name': 'Omak Rock', 'latitude': '48.23503', 'longitude': '-119.36667'}, '30': {'name': 'Steamboat Rock', 'latitude': '47.863518', 'longitude': '-119.133417'}, '31': {'name': 'Lochend Erratic', 'latitude': '51.489267', 'longitude': '-114.306517'}, '32': {'name': 'Sienna Hills Erratic', 'latitude': '51.02595', 'longitude': '-114.171883'}, '33': {'name': 'Kincora Erratic', 'latitude': '51.156333', 'longitude': '-114.125233'}, '34': {'name': 'Nose Hill Erratic', 'latitude': '51.099922', 'longitude': '-114.113071'}, '35': {'name': 'Hidden Valley Erratic', 'latitude': '51.14855', 'longitude': '-114.1119'}, '36': {'name': 'Rubbing Stone', 'latitude': '51.112008', 'longitude': '-114.090847'}, '37': {'name': 'Big Rock', 'latitude': '50.705883', 'longitude': '-114.076422'}, '38': {'name': 'Nose Creek Erratic', 'latitude': '51.13405', 'longitude': '-114.065983'}, '39': {'name': 'Glenwood Erratic', 'latitude': '49.366674', 'longitude': '-113.518605'}, '40': {'name': 'Yellowstone Erratic', 'latitude': '44.729133', 'longitude': '-110.4725'}, '41': {'name': 'Flaxcombe Erratic', 'latitude': '51.474183', 'longitude': '-109.6228'}, '42': {'name': 'Indian Lake Medicine Rock', 'latitude': '47.730457', 'longitude': '-107.870383'}, '43': {'name': 'Sleeping Buffalo Rock', 'latitude': '48.435279', 'longitude': '-107.597036'}, '44': {'name': 'Misateni', 'latitude': '51.129793', 'longitude': '-106.572064'}, '45': {'name': 'Mills Lake Erratic', 'latitude': '40.29145', 'longitude': '-105.642783'}, '46': {'name': 'Buffalo Stone', 'latitude': '50.901', 'longitude': '-105.6342'}, '47': {'name': 'Writing Rock', 'latitude': '48.780357', 'longitude': '-103.884351'}, '48': {'name': 'Horizon Middle School Erratics', 'latitude': '46.856233', 'longitude': '-100.802733'}, '49': {'name': 'Prayer Rock', 'latitude': '45.44515', 'longitude': '-99.027733'}, '50': {'name': 'Writing Rock', 'latitude': '46.520804', 'longitude': '-97.926213'}, '51': {'name': 'Standing Rock', 'latitude': '46.623601', 'longitude': '-97.908518'}, '52': {'name': 'Medicine Rock', 'latitude': '49.9087', 'longitude': '-97.53595'}, '53': {'name': \"Thunder Bird's Track\", 'latitude': '45.587174', 'longitude': '-97.13704'}, '54': {'name': \"Thunder Bird's Track's Brother\", 'latitude': '45.589947', 'longitude': '-97.096747'}, '55': {'name': 'Sacred Rock', 'latitude': '45.610122', 'longitude': '-96.835616'}, '56': {'name': 'Pilot Rock', 'latitude': '42.695817', 'longitude': '-95.553062'}, '57': {'name': 'Falcon Creek Erratic', 'latitude': '49.692717', 'longitude': '-95.338267'}, '58': {'name': 'Gull Point State Park', 'latitude': '43.372868', 'longitude': '-95.162472'}, '59': {'name': 'Lone Rock', 'latitude': '43.219372', 'longitude': '-94.321724'}, '60': {'name': 'Squaw Creek Erratic', 'latitude': '42.037041', 'longitude': '-93.650891'}, '61': {'name': 'Big Rock / Tun-Can / Grandfather', 'latitude': '44.742968', 'longitude': '-93.402614'}, '62': {'name': 'Woodland Erratic', 'latitude': '44.274567', 'longitude': '-93.335717'}, '63': {'name': 'Bairdstown Church Erratic', 'latitude': '40.284971', 'longitude': '-93.191456'}, '64': {'name': 'Granite Boulder', 'latitude': '42.244722', 'longitude': '-93.064167'}, '65': {'name': 'The Sentinel', 'latitude': '41.698615', 'longitude': '-93.046939'}, '66': {'name': 'Sleeping Boulder', 'latitude': '41.698565', 'longitude': '-93.046378'}, '67': {'name': 'Grammer Grove Erratic', 'latitude': '42.16685', 'longitude': '-93.031917'}, '68': {'name': 'Red Rock Boulder', 'latitude': '44.872763', 'longitude': '-92.993125'}, '69': {'name': \"St Peter's Rock\", 'latitude': '43.167097', 'longitude': '-92.356772'}, '70': {'name': 'Black Hawk County Erratic', 'latitude': '42.501197', 'longitude': '-92.33654'}, '71': {'name': 'Split Rock', 'latitude': '42.913331', 'longitude': '-92.2385'}, '72': {'name': 'Five Sisters Boulders', 'latitude': '42.315256', 'longitude': '-92.00346'}, '73': {'name': 'Crumbacher Erratic', 'latitude': '42.4333', 'longitude': '-91.970967'}, '74': {'name': 'Stone Man', 'latitude': '42.851153', 'longitude': '-91.845139'}, '75': {'name': 'Big Rock', 'latitude': '42.25495', 'longitude': '-91.62775'}, '76': {'name': 'The Rock', 'latitude': '41.990552', 'longitude': '-91.627172'}, '77': {'name': 'White Cross Rock', 'latitude': '42.524559', 'longitude': '-90.668568'}, '78': {'name': 'Ice Age Trail Erratic', 'latitude': '45.405375', 'longitude': '-89.465189'}, '79': {'name': 'Chamberlin Erratic', 'latitude': '43.076784', 'longitude': '-89.426668'}, '80': {'name': 'Church Street Erratic', 'latitude': '40.596817', 'longitude': '-89.128917'}, '81': {'name': 'Elephant Rock', 'latitude': '38.434031', 'longitude': '-88.862428'}, '82': {'name': 'Chandler Cemetery Erratic', 'latitude': '40.0509', 'longitude': '-88.763033'}, '83': {'name': 'Wolf Creek Erratic', 'latitude': '39.4776', 'longitude': '-88.681533'}, '84': {'name': 'Little Stinker', 'latitude': '41.6948', 'longitude': '-88.1232'}, '85': {'name': 'Schoolhouse Memorial Rock', 'latitude': '41.716133', 'longitude': '-88.115433'}, '86': {'name': 'Fort St. Joseph Erratic', 'latitude': '41.812989', 'longitude': '-86.260762'}, '87': {'name': 'Eager Beaver Erratic', 'latitude': '40.029283', 'longitude': '-86.0328'}, '88': {'name': 'Grand Valley Erratics', 'latitude': '42.969017', 'longitude': '-85.9523'}, '89': {'name': 'Artesian Erratics', 'latitude': '40.3167', 'longitude': '-85.309433'}, '90': {'name': 'Hidden Lake Gardens Erratic', 'latitude': '42.0226', 'longitude': '-84.107367'}, '91': {'name': 'Brassfield Erratic', 'latitude': '39.448735', 'longitude': '-84.08393'}, '92': {'name': 'Erie Erratic', 'latitude': '42.075233', 'longitude': '-83.198933'}, '93': {'name': 'Wyman Woods Erratic', 'latitude': '39.978229', 'longitude': '-83.043599'}, '94': {'name': 'Orton Hall Erratic', 'latitude': '40.001328', 'longitude': '-83.014564'}, '95': {'name': 'Rush Creek Erratic', 'latitude': '40.08395', 'longitude': '-83.007133'}, '96': {'name': 'Sunbury Erratic', 'latitude': '40.248504', 'longitude': '-82.830746'}, '97': {'name': 'Balancing Rock', 'latitude': '40.3226', 'longitude': '-78.131'}, '98': {'name': 'Bleasdell Boulder', 'latitude': '44.148833', 'longitude': '-77.588496'}, '99': {'name': 'Skenandoah Boulder', 'latitude': '43.076713', 'longitude': '-75.618942'}, '100': {'name': 'Mouse Cradle Balancing Rock', 'latitude': '40.91172', 'longitude': '-74.43818'}, '101': {'name': 'Elephant Rock', 'latitude': '40.901447', 'longitude': '-74.407997'}, '102': {'name': \"Bear Rock / 'Bare Roke'\", 'latitude': '40.958505', 'longitude': '-74.389862'}, '103': {'name': 'Kinnelon Tripod Rock', 'latitude': '40.960038', 'longitude': '-74.384496'}, '104': {'name': 'Whale Head Rock', 'latitude': '40.963761', 'longitude': '-74.379243'}, '105': {'name': 'Indian Rock', 'latitude': '41.689981', 'longitude': '-74.355505'}, '106': {'name': \"Patterson's Pellet\", 'latitude': '41.713289', 'longitude': '-74.24509'}, '107': {'name': 'Sitting Hen Rock', 'latitude': '41.062883', 'longitude': '-74.237601'}, '108': {'name': 'Glen Rock', 'latitude': '40.962698', 'longitude': '-74.134903'}, '109': {'name': 'Indian Rock', 'latitude': '41.113575', 'longitude': '-74.129133'}, '110': {'name': 'Indian Rock', 'latitude': '41.135929', 'longitude': '-74.118477'}, '111': {'name': 'Sugarloaf Rock', 'latitude': '40.630498', 'longitude': '-74.088118'}, '112': {'name': 'Central Park Erratic', 'latitude': '40.770594', 'longitude': '-73.974518'}, '113': {'name': 'Tory Rock', 'latitude': '43.2648', 'longitude': '-73.957017'}, '114': {'name': 'New York Botanical Garden Erratic', 'latitude': '40.863879', 'longitude': '-73.878693'}, '115': {'name': 'Rockingstone', 'latitude': '40.847968', 'longitude': '-73.877838'}, '116': {'name': 'Bear Den Erratics', 'latitude': '40.848937', 'longitude': '-73.877603'}, '117': {'name': 'Ditmars Blvd Pet Rock', 'latitude': '40.767853', 'longitude': '-73.867447'}, '118': {'name': 'Split Rock', 'latitude': '40.886261', 'longitude': '-73.814758'}, '119': {'name': \"Glover's Rock\", 'latitude': '40.865108', 'longitude': '-73.802247'}, '120': {'name': 'Rocking Stone', 'latitude': '40.940186', 'longitude': '-73.767773'}, '121': {'name': 'Shelter Rock / Milestone Rock', 'latitude': '40.789311', 'longitude': '-73.691139'}, '122': {'name': 'North Salem Dolmen', 'latitude': '41.664167', 'longitude': '-73.572'}, '123': {'name': 'Target Rock', 'latitude': '40.929658', 'longitude': '-73.430375'}, '124': {'name': \"Simon's Rock\", 'latitude': '42.207759', 'longitude': '-73.374402'}, '125': {'name': 'Balance Rock', 'latitude': '42.5106', 'longitude': '-73.273883'}, '126': {'name': \"Hiram's Tomb\", 'latitude': '42.275745', 'longitude': '-72.97961'}, '127': {'name': 'Knightville Basin Erratic', 'latitude': '42.329317', 'longitude': '-72.854917'}, '128': {'name': 'Picnic Rock', 'latitude': '43.548805', 'longitude': '-72.815677'}, '129': {'name': \"Judge's Cave\", 'latitude': '41.252111', 'longitude': '-72.538196'}, '130': {'name': 'Quinipet Boulders', 'latitude': '41.070534', 'longitude': '-72.381155'}, '131': {'name': 'Chipmunk Boulder', 'latitude': '41.390018', 'longitude': '-72.321858'}, '132': {'name': 'Tippin Rock', 'latitude': '42.824051', 'longitude': '-72.286786'}, '133': {'name': 'Vessel Rock', 'latitude': '43.031625', 'longitude': '-72.275002'}, '134': {'name': 'Wolf Rock', 'latitude': '41.75933', 'longitude': '-72.21258'}, '135': {'name': 'Rockingstone', 'latitude': '42.436019', 'longitude': '-72.1575'}, '136': {'name': 'Cauchegan Rock / Sheegan Rock', 'latitude': '41.470654', 'longitude': '-72.123411'}, '137': {'name': 'Rum Rock', 'latitude': '42.421658', 'longitude': '-72.120911'}, '138': {'name': 'Indian Rock', 'latitude': '42.457075', 'longitude': '-72.104545'}, '139': {'name': 'Profile Rock', 'latitude': '42.607452', 'longitude': '-72.075353'}, '140': {'name': 'Frog Rock', 'latitude': '41.867927', 'longitude': '-72.05038'}, '141': {'name': 'Sunset Rock', 'latitude': '41.324252', 'longitude': '-72.030862'}, '142': {'name': 'Split Rock', 'latitude': '41.321197', 'longitude': '-72.022306'}, '143': {'name': \"Jemima's Rock / Canopie Rock\", 'latitude': '41.330919', 'longitude': '-72.014887'}, '144': {'name': 'Rocking Boulder', 'latitude': '41.327862', 'longitude': '-71.990594'}, '145': {'name': 'Parking Lot Erratic', 'latitude': '41.344656', 'longitude': '-71.94998'}, '146': {'name': 'Rollstone Boulder', 'latitude': '42.586677', 'longitude': '-71.805949'}, '147': {'name': 'Pulpit Rock', 'latitude': '43.40514', 'longitude': '-71.739632'}, '148': {'name': 'Frog Rock', 'latitude': '42.934017', 'longitude': '-71.721933'}, '149': {'name': 'Indian Rock', 'latitude': '41.656563', 'longitude': '-71.713305'}, '150': {'name': 'Boise Rock', 'latitude': '44.140751', 'longitude': '-71.690585'}, '151': {'name': 'Rowlandson Boulder', 'latitude': '42.4534', 'longitude': '-71.675059'}, '152': {'name': 'Indian Rock', 'latitude': '42.954956', 'longitude': '-71.612765'}, '153': {'name': \"Settler's Rock\", 'latitude': '41.224795', 'longitude': '-71.566936'}, '154': {'name': 'Cobble Rock / Coblin Rock', 'latitude': '41.982984', 'longitude': '-71.532058'}, '155': {'name': 'Egg Rock', 'latitude': '42.5037', 'longitude': '-71.434267'}, '156': {'name': 'Elevation Boulder', 'latitude': '41.870562', 'longitude': '-71.383569'}, '157': {'name': 'Fairy Rock / Bates Boulder', 'latitude': '42.31552', 'longitude': '-71.308165'}, '158': {'name': 'Bartlett Boulder', 'latitude': '44.092788', 'longitude': '-71.288474'}, '159': {'name': 'Glen Boulder', 'latitude': '44.237927', 'longitude': '-71.275831'}, '160': {'name': 'Ordination Rock', 'latitude': '43.859442', 'longitude': '-71.264433'}, '161': {'name': 'Revere Rock', 'latitude': '42.437326', 'longitude': '-71.246971'}, '162': {'name': 'Churchill Rock', 'latitude': '43.12007', 'longitude': '-71.18532'}, '163': {'name': 'Madison Boulder', 'latitude': '43.9302', 'longitude': '-71.16968'}, '164': {'name': 'Rolling Rock', 'latitude': '41.693452', 'longitude': '-71.130181'}, '165': {'name': 'Sliding Rock', 'latitude': '41.693686', 'longitude': '-71.126327'}, '166': {'name': \"Quimby's Pillow\", 'latitude': '44.08128', 'longitude': '-71.119835'}, '167': {'name': 'Dighton Rock', 'latitude': '41.812934', 'longitude': '-71.110424'}, '168': {'name': 'Washington Boulder', 'latitude': '44.004418', 'longitude': '-71.107877'}, '169': {'name': 'Elephant Rock', 'latitude': '42.645363', 'longitude': '-71.092025'}, '170': {'name': 'Fairview Rock', 'latitude': '42.292084', 'longitude': '-71.046092'}, '171': {'name': 'Ordway Boulder', 'latitude': '42.748805', 'longitude': '-71.024753'}, '172': {'name': 'Cradle Rock', 'latitude': '42.749393', 'longitude': '-71.017956'}, '173': {'name': 'Wigwam Rock', 'latitude': '42.520576', 'longitude': '-70.981956'}, '174': {'name': 'Phaeton Rock / Cannon Rock', 'latitude': '42.50373', 'longitude': '-70.96862'}, '175': {'name': 'The Weymouth Sphinx', 'latitude': '42.207964', 'longitude': '-70.963044'}, '176': {'name': 'Ship Rock', 'latitude': '42.520115', 'longitude': '-70.957314'}, '177': {'name': 'House Rock', 'latitude': '42.214334', 'longitude': '-70.945019'}, '178': {'name': 'Perched Rock', 'latitude': '42.179041', 'longitude': '-70.923129'}, '179': {'name': 'Hand Rock', 'latitude': '41.900977', 'longitude': '-70.891926'}, '180': {'name': \"Carsey's Rock\", 'latitude': '42.758691', 'longitude': '-70.869627'}, '181': {'name': 'Bouve Boulder', 'latitude': '42.249526', 'longitude': '-70.867986'}, '182': {'name': 'Haystack Boulder', 'latitude': '42.76779', 'longitude': '-70.846991'}, '183': {'name': 'Burbank Boulder', 'latitude': '42.20515', 'longitude': '-70.844006'}, '184': {'name': 'Witch Rock', 'latitude': '41.726564', 'longitude': '-70.839939'}, '185': {'name': 'Split Rock', 'latitude': '41.655991', 'longitude': '-70.82144'}, '186': {'name': 'Bung-stopper Rock', 'latitude': '42.592991', 'longitude': '-70.820263'}, '187': {'name': 'Toad Rock', 'latitude': '41.319407', 'longitude': '-70.803577'}, '188': {'name': 'Agassiz Rock / Sunset Rock', 'latitude': '42.596485', 'longitude': '-70.766345'}, '189': {'name': 'Split Rock', 'latitude': '41.699178', 'longitude': '-70.765228'}, '190': {'name': 'The Sugar Loaf', 'latitude': '41.357547', 'longitude': '-70.750104'}, '191': {'name': \"Stonecutter's Rock\", 'latitude': '41.356502', 'longitude': '-70.738917'}, '192': {'name': \"The Devil's Bed\", 'latitude': '41.35273', 'longitude': '-70.735555'}, '193': {'name': \"Wakosim's Rock\", 'latitude': '41.395891', 'longitude': '-70.703448'}, '194': {'name': 'Tilting Rock', 'latitude': '42.657502', 'longitude': '-70.67705'}, '195': {'name': 'Plymouth Rock', 'latitude': '41.958068', 'longitude': '-70.662112'}, '196': {'name': 'Babson Boulders', 'latitude': '42.636492', 'longitude': '-70.661022'}, '197': {'name': 'Raccoon Rocks', 'latitude': '42.64932', 'longitude': '-70.639782'}, '198': {'name': 'Shade Rock', 'latitude': '41.440703', 'longitude': '-70.630554'}, '199': {'name': 'Rumford Erratic', 'latitude': '44.512253', 'longitude': '-70.619815'}, '200': {'name': 'White Horse Rock / Flag Rock', 'latitude': '41.935881', 'longitude': '-70.558809'}, '201': {'name': 'Dagget Rock', 'latitude': '44.848548', 'longitude': '-70.304896'}, '202': {'name': 'Hokum Rock', 'latitude': '41.732467', 'longitude': '-70.172583'}, '203': {'name': 'Doane Rock', 'latitude': '41.84445', 'longitude': '-69.95782'}, '204': {'name': 'Katahdin Erratic', 'latitude': '45.78365', 'longitude': '-68.97425'}, '205': {'name': 'Bubble Rock', 'latitude': '44.342778', 'longitude': '-68.256111'}, '206': {'name': 'The Jelly Bean', 'latitude': '44.352823', 'longitude': '-68.224132'}, '207': {'name': 'Tunk Giants', 'latitude': '44.600967', 'longitude': '-68.052083'}, '208': {'name': 'Gibraltar Rock', 'latitude': '44.867883', 'longitude': '-66.937717'}, '209': {'name': \"Island's Erratic\", 'latitude': '43.76525', 'longitude': '-65.33795'}, '210': {'name': 'Pocket Erratic', 'latitude': '43.874317', 'longitude': '-64.9631'}, '211': {'name': 'Kidston Lake Rocking Stone', 'latitude': '44.595783', 'longitude': '-63.6178'}, '212': {'name': 'Lord & Lady Gulch Erratic', 'latitude': '49.6816', 'longitude': '-54.41735'}, '213': {'name': 'The Lantern', 'latitude': '47.607699', 'longitude': '-53.22458'}}\n"
     ]
    }
   ],
   "source": [
    "import csv\n",
    "\n",
    "# This function reads a CSV file and returns a dictionary with the ID as the key and the name, latitude, and longitude as the value\n",
    "def read_csv_to_dict(file_path):\n",
    "    data_dict = {}\n",
    "    with open(file_path, mode='r') as file:\n",
    "        csv_reader = csv.reader(file)\n",
    "        next(csv_reader)  # Skip the header row\n",
    "        for row in csv_reader:\n",
    "            id = row[6]\n",
    "            name = row[7]\n",
    "            latitude = row[1]\n",
    "            longitude = row[2]\n",
    "            data_dict[id] = {'name': name, 'latitude': latitude, 'longitude': longitude}\n",
    "    return data_dict\n",
    "\n",
    "file_path = 'erratics_gis.csv'  # Replace with your actual CSV file path\n",
    "result = read_csv_to_dict(file_path)\n",
    "print(result)\n"
   ]
  },
  {
   "cell_type": "code",
   "execution_count": 2,
   "metadata": {},
   "outputs": [],
   "source": [
    "# Import modules\n",
    "from arcgis import GIS\n",
    "from arcgis.geometry import Point, Polyline, Polygon\n",
    "from arcgis.map.symbols import SimpleMarkerSymbolEsriSMS, SimpleLineSymbolEsriSLS, SimpleMarkerSymbolStyle, PictureMarkerSymbolEsriPMS\n",
    "from arcgis.map.popups import PopupInfo"
   ]
  },
  {
   "cell_type": "code",
   "execution_count": 3,
   "metadata": {},
   "outputs": [],
   "source": [
    "# Log in to portal\n",
    "portal = GIS(api_key=\"AAPTxy8BH1VEsoebNVZXo8HurNF06YWHEbns1XWgxHCpzlyDjxh3Rx8dbWwLv-YhpjbuKnTT5uOWTO7-WskSkafBC6jiu1QCJUkLpyb-6epQoRGSlLogeBqx_bwJSceJjPn7ooXJnbZwuuPl8jcPSv014Zrv8X5lK7aDfBFPPUlt8dfqMsy9ZZtrxkFKKrL9bRIhoJZTDuTzFRhIgV43IhOe3YtvXO7xAuynlg14irzQnV8.AT1_TRlM9H04\")"
   ]
  },
  {
   "cell_type": "code",
   "execution_count": 4,
   "metadata": {},
   "outputs": [],
   "source": [
    "# Create a list of point geometries and attributes\n",
    "point_geometries = []\n",
    "point_attributes = []\n",
    "for id, data in result.items():\n",
    "    name = data['name']\n",
    "    latitude = data['latitude']\n",
    "    longitude = data['longitude']\n",
    "    point = Point({'x': longitude, 'y': latitude, 'spatialReference': {'wkid': 4326}})\n",
    "    point_geometries.append(point)\n",
    "    point_attributes.append({'name': name, 'description': id})"
   ]
  },
  {
   "cell_type": "code",
   "execution_count": 5,
   "metadata": {},
   "outputs": [],
   "source": [
    "# Create a list of point graphics\n",
    "point_symbol =  SimpleMarkerSymbolEsriSMS(\n",
    "    style = SimpleMarkerSymbolStyle.esri_sms_circle,\n",
    "    color = [0, 0, 0],\n",
    "    outline = SimpleLineSymbolEsriSLS(color = [255, 255, 255], width = 1),\n",
    ")\n",
    "\n",
    "image_symbol = PictureMarkerSymbolEsriPMS(\n",
    "    url = \"https://upload.wikimedia.org/wikipedia/en/a/ab/Nevertry.jpg\",\n",
    "    width = 20,\n",
    "    height = 20\n",
    ")"
   ]
  },
  {
   "cell_type": "code",
   "execution_count": 6,
   "metadata": {},
   "outputs": [
    {
     "data": {
      "application/vnd.jupyter.widget-view+json": {
       "model_id": "96a2ad1e90ab472a948e6092baee2d4e",
       "version_major": 2,
       "version_minor": 1
      },
      "text/plain": [
       "Map(extent={'xmin': -15000000, 'ymin': 2700000, 'xmax': -6200000, 'ymax': 6500000, 'spatialReference': {'wkid'…"
      ]
     },
     "execution_count": 6,
     "metadata": {},
     "output_type": "execute_result"
    }
   ],
   "source": [
    "map = portal.map()\n",
    "map"
   ]
  },
  {
   "cell_type": "code",
   "execution_count": 7,
   "metadata": {},
   "outputs": [],
   "source": [
    "# Add the point graphics to the map\n",
    "for point_geometry, point_attributes in zip(point_geometries, point_attributes):\n",
    "    map.content.draw(\n",
    "        shape=point_geometry,\n",
    "        # symbol=point_symbol,\n",
    "        symbol=image_symbol,\n",
    "        popup=PopupInfo(title=point_attributes[\"name\"], description=point_attributes[\"description\"])\n",
    "    )"
   ]
  },
  {
   "cell_type": "code",
   "execution_count": 8,
   "metadata": {},
   "outputs": [],
   "source": [
    "# Set the map's extent\n",
    "map.center = [34.0122, -118.8055]\n",
    "map.zoom = 14"
   ]
  },
  {
   "cell_type": "code",
   "execution_count": 9,
   "metadata": {},
   "outputs": [
    {
     "data": {
      "text/plain": [
       "True"
      ]
     },
     "execution_count": 9,
     "metadata": {},
     "output_type": "execute_result"
    }
   ],
   "source": [
    "# Export the map to an HTML file\n",
    "import os\n",
    "\n",
    "file_dir = os.path.join(os.getcwd(), \"home\")\n",
    "if not os.path.isdir(file_dir):\n",
    "    os.mkdir(file_dir)\n",
    "\n",
    "file_path = os.path.join(file_dir, \"add-a-point-line-and-polygon.html\")\n",
    "\n",
    "map.export_to_html(file_path, title=\"Add a point, line, and polygon\")"
   ]
  }
 ],
 "metadata": {
  "kernelspec": {
   "display_name": "myenv",
   "language": "python",
   "name": "python3"
  },
  "language_info": {
   "codemirror_mode": {
    "name": "ipython",
    "version": 3
   },
   "file_extension": ".py",
   "mimetype": "text/x-python",
   "name": "python",
   "nbconvert_exporter": "python",
   "pygments_lexer": "ipython3",
   "version": "3.11.10"
  }
 },
 "nbformat": 4,
 "nbformat_minor": 2
}
