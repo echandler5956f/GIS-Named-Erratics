{
 "cells": [
  {
   "cell_type": "code",
   "execution_count": null,
   "metadata": {},
   "outputs": [],
   "source": [
    "import csv\n",
    "\n",
    "# This function reads a CSV file and returns a dictionary with the ID as the key and the name, latitude, and longitude as the value\n",
    "def read_csv_to_dict(file_path):\n",
    "    data_dict = {}\n",
    "    with open(file_path, mode='r') as file:\n",
    "        csv_reader = csv.reader(file)\n",
    "        next(csv_reader)  # Skip the header row\n",
    "        for row in csv_reader:\n",
    "            id = row[6]\n",
    "            name = row[7]\n",
    "            latitude = row[1]\n",
    "            longitude = row[2]\n",
    "            data_dict[id] = {'name': name, 'latitude': latitude, 'longitude': longitude}\n",
    "    return data_dict\n",
    "\n",
    "file_path = 'erratics_gis.csv'  # Replace with your actual CSV file path\n",
    "result = read_csv_to_dict(file_path)\n",
    "print(result)\n"
   ]
  },
  {
   "cell_type": "code",
   "execution_count": 2,
   "metadata": {},
   "outputs": [],
   "source": [
    "# Import modules\n",
    "from arcgis import GIS\n",
    "from arcgis.geometry import Point, Polyline, Polygon\n",
    "from arcgis.map.symbols import SimpleMarkerSymbolEsriSMS, SimpleLineSymbolEsriSLS, SimpleMarkerSymbolStyle, PictureMarkerSymbolEsriPMS\n",
    "from arcgis.map.popups import PopupInfo"
   ]
  },
  {
   "cell_type": "code",
   "execution_count": 3,
   "metadata": {},
   "outputs": [],
   "source": [
    "# Log in to portal\n",
    "portal = GIS()  # anonymously"
   ]
  },
  {
   "cell_type": "code",
   "execution_count": 4,
   "metadata": {},
   "outputs": [],
   "source": [
    "# Create a list of point geometries and attributes\n",
    "point_geometries = []\n",
    "point_attributes = []\n",
    "for id, data in result.items():\n",
    "    name = data['name']\n",
    "    latitude = data['latitude']\n",
    "    longitude = data['longitude']\n",
    "    point = Point({'x': longitude, 'y': latitude, 'spatialReference': {'wkid': 4326}})\n",
    "    point_geometries.append(point)\n",
    "    point_attributes.append({'name': name, 'description': id})"
   ]
  },
  {
   "cell_type": "code",
   "execution_count": 5,
   "metadata": {},
   "outputs": [],
   "source": [
    "# Create a list of point graphics\n",
    "point_symbol =  SimpleMarkerSymbolEsriSMS(\n",
    "    style = SimpleMarkerSymbolStyle.esri_sms_circle,\n",
    "    color = [0, 0, 0],\n",
    "    outline = SimpleLineSymbolEsriSLS(color = [255, 255, 255], width = 1),\n",
    ")\n",
    "\n",
    "image_symbol = PictureMarkerSymbolEsriPMS(\n",
    "    url = \"https://upload.wikimedia.org/wikipedia/en/a/ab/Nevertry.jpg\",\n",
    "    width = 20,\n",
    "    height = 20\n",
    ")"
   ]
  },
  {
   "cell_type": "code",
   "execution_count": null,
   "metadata": {},
   "outputs": [],
   "source": [
    "map = portal.map()\n",
    "map"
   ]
  },
  {
   "cell_type": "code",
   "execution_count": 7,
   "metadata": {},
   "outputs": [],
   "source": [
    "# Add the point graphics to the map\n",
    "for point_geometry, point_attributes in zip(point_geometries, point_attributes):\n",
    "    map.content.draw(\n",
    "        shape=point_geometry,\n",
    "        # symbol=point_symbol,\n",
    "        symbol=image_symbol,\n",
    "        popup=PopupInfo(title=point_attributes[\"name\"], description=point_attributes[\"description\"])\n",
    "    )"
   ]
  },
  {
   "cell_type": "code",
   "execution_count": 8,
   "metadata": {},
   "outputs": [],
   "source": [
    "# Set the map's extent\n",
    "map.center = [34.0122, -118.8055]\n",
    "map.zoom = 14"
   ]
  },
  {
   "cell_type": "code",
   "execution_count": null,
   "metadata": {},
   "outputs": [],
   "source": [
    "# Export the map to an HTML file\n",
    "import os\n",
    "\n",
    "file_dir = os.path.join(os.getcwd(), \"home\")\n",
    "if not os.path.isdir(file_dir):\n",
    "    os.mkdir(file_dir)\n",
    "\n",
    "file_path = os.path.join(file_dir, \"add-a-point-line-and-polygon.html\")\n",
    "\n",
    "map.export_to_html(file_path, title=\"Add a point, line, and polygon\")"
   ]
  }
 ],
 "metadata": {
  "kernelspec": {
   "display_name": "myenv",
   "language": "python",
   "name": "python3"
  },
  "language_info": {
   "codemirror_mode": {
    "name": "ipython",
    "version": 3
   },
   "file_extension": ".py",
   "mimetype": "text/x-python",
   "name": "python",
   "nbconvert_exporter": "python",
   "pygments_lexer": "ipython3",
   "version": "3.11.10"
  }
 },
 "nbformat": 4,
 "nbformat_minor": 2
}
