{
 "cells": [
  {
   "cell_type": "code",
   "execution_count": 2,
   "id": "b913f7d0-486e-4f0a-a5ce-ba6233552de6",
   "metadata": {},
   "outputs": [
    {
     "data": {
      "application/vnd.jupyter.widget-view+json": {
       "model_id": "8fbe6b91126d47508b45cfc4df6b742a",
       "version_major": 2,
       "version_minor": 1
      },
      "text/plain": [
       "Map(center=[34.027, -118.805], extent={'xmin': -15000000, 'ymin': 2700000, 'xmax': -6200000, 'ymax': 6500000, …"
      ]
     },
     "execution_count": 2,
     "metadata": {},
     "output_type": "execute_result"
    }
   ],
   "source": [
    "from arcgis.gis import GIS\n",
    "\n",
    "gis = GIS(api_key=\"AAPTxy8BH1VEsoebNVZXo8HurNF06YWHEbns1XWgxHCpzlyDjxh3Rx8dbWwLv-YhpjbuKnTT5uOWTO7-WskSkafBC6jiu1QCJUkLpyb-6epQoRGSlLogeBqx_bwJSceJjPn7ooXJnbZwuuPl8jcPSv014Zrv8X5lK7aDfBFPPUlt8dfqMsy9ZZtrxkFKKrL9bRIhoJZTDuTzFRhIgV43IhOe3YtvXO7xAuynlg14irzQnV8.AT1_TRlM9H04\")\n",
    "\n",
    "map = gis.map()\n",
    "map.basemap.basemap = \"arcgis-streets\"\n",
    "\n",
    "map.center = [34.027, -118.805]\n",
    "map.zoom = 12\n",
    "\n",
    "map  # display the map"
   ]
  },
  {
   "cell_type": "code",
   "execution_count": null,
   "id": "cf70f9db-d657-4016-a782-bfd03602a264",
   "metadata": {},
   "outputs": [],
   "source": []
  }
 ],
 "metadata": {
  "kernelspec": {
   "display_name": "Python 3 (ipykernel)",
   "language": "python",
   "name": "python3"
  },
  "language_info": {
   "codemirror_mode": {
    "name": "ipython",
    "version": 3
   },
   "file_extension": ".py",
   "mimetype": "text/x-python",
   "name": "python",
   "nbconvert_exporter": "python",
   "pygments_lexer": "ipython3",
   "version": "3.11.10"
  }
 },
 "nbformat": 4,
 "nbformat_minor": 5
}
